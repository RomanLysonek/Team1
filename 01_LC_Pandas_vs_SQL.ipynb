{
  "nbformat": 4,
  "nbformat_minor": 0,
  "metadata": {
    "colab": {
      "name": "01 - LC Pandas vs SQL.ipynb",
      "provenance": []
    },
    "kernelspec": {
      "name": "python3",
      "display_name": "Python 3"
    },
    "language_info": {
      "name": "python"
    }
  },
  "cells": [
    {
      "cell_type": "code",
      "metadata": {
        "id": "NDlFY6pGUoJY"
      },
      "source": [
        "import pandas as pd"
      ],
      "execution_count": null,
      "outputs": []
    },
    {
      "cell_type": "code",
      "metadata": {
        "id": "jkl-7L0_XV7-"
      },
      "source": [
        "df_list = [\n",
        "  [\"Lamar Jackson\", 23, \"Ravens\", \"QB\"]\n",
        "  , [\"Russell Wilson\", 31, \"Seahawks\", \"QB\"]\n",
        "  , [\"Aaron Donald\", 29, \"Rams\", \"DT\"]\n",
        "  , [\"Patrick Mahomes\", 24, \"Chiefs\", \"QB\"]\n",
        "  , [\"Michael Thomas\", 27, \"Saints\", \"WR\"]\n",
        "  , [\"Christian McCaffrey\", 24, \"Panthers\", \"RB\"]\n",
        "  , [\"George Kittle\", 26, \"49ers\", \"TE\"]\n",
        "  , [\"DeAndre Hopkins\", 28, \"Cardinals\", \"WR\"]\n",
        "  , [\"Stephon Gilmore\", 29, \"Patriots\", \"CB\"]\n",
        "  , [\"Derrick Henry\", 26, \"Titans\", \"RB\"]\n",
        "]\n",
        "df_columns = [\"Name\", \"Age\", \"Team\", \"Position\"]\n",
        "players = pd.DataFrame(data=df_list, columns=df_columns)"
      ],
      "execution_count": null,
      "outputs": []
    },
    {
      "cell_type": "markdown",
      "metadata": {
        "id": "xOF_AGtXa8Th"
      },
      "source": [
        "SELECT * FROM players"
      ]
    },
    {
      "cell_type": "code",
      "metadata": {
        "colab": {
          "base_uri": "https://localhost:8080/",
          "height": 363
        },
        "id": "LwFXgqQyYOhA",
        "outputId": "8161f504-eb06-4e9d-df0a-fb5873ceacca"
      },
      "source": [
        "players"
      ],
      "execution_count": null,
      "outputs": [
        {
          "output_type": "execute_result",
          "data": {
            "text/html": [
              "<div>\n",
              "<style scoped>\n",
              "    .dataframe tbody tr th:only-of-type {\n",
              "        vertical-align: middle;\n",
              "    }\n",
              "\n",
              "    .dataframe tbody tr th {\n",
              "        vertical-align: top;\n",
              "    }\n",
              "\n",
              "    .dataframe thead th {\n",
              "        text-align: right;\n",
              "    }\n",
              "</style>\n",
              "<table border=\"1\" class=\"dataframe\">\n",
              "  <thead>\n",
              "    <tr style=\"text-align: right;\">\n",
              "      <th></th>\n",
              "      <th>Name</th>\n",
              "      <th>Age</th>\n",
              "      <th>Team</th>\n",
              "      <th>Position</th>\n",
              "    </tr>\n",
              "  </thead>\n",
              "  <tbody>\n",
              "    <tr>\n",
              "      <th>0</th>\n",
              "      <td>Lamar Jackson</td>\n",
              "      <td>23</td>\n",
              "      <td>Ravens</td>\n",
              "      <td>QB</td>\n",
              "    </tr>\n",
              "    <tr>\n",
              "      <th>1</th>\n",
              "      <td>Russell Wilson</td>\n",
              "      <td>31</td>\n",
              "      <td>Seahawks</td>\n",
              "      <td>QB</td>\n",
              "    </tr>\n",
              "    <tr>\n",
              "      <th>2</th>\n",
              "      <td>Aaron Donald</td>\n",
              "      <td>29</td>\n",
              "      <td>Rams</td>\n",
              "      <td>DT</td>\n",
              "    </tr>\n",
              "    <tr>\n",
              "      <th>3</th>\n",
              "      <td>Patrick Mahomes</td>\n",
              "      <td>24</td>\n",
              "      <td>Chiefs</td>\n",
              "      <td>QB</td>\n",
              "    </tr>\n",
              "    <tr>\n",
              "      <th>4</th>\n",
              "      <td>Michael Thomas</td>\n",
              "      <td>27</td>\n",
              "      <td>Saints</td>\n",
              "      <td>WR</td>\n",
              "    </tr>\n",
              "    <tr>\n",
              "      <th>5</th>\n",
              "      <td>Christian McCaffrey</td>\n",
              "      <td>24</td>\n",
              "      <td>Panthers</td>\n",
              "      <td>RB</td>\n",
              "    </tr>\n",
              "    <tr>\n",
              "      <th>6</th>\n",
              "      <td>George Kittle</td>\n",
              "      <td>26</td>\n",
              "      <td>49ers</td>\n",
              "      <td>TE</td>\n",
              "    </tr>\n",
              "    <tr>\n",
              "      <th>7</th>\n",
              "      <td>DeAndre Hopkins</td>\n",
              "      <td>28</td>\n",
              "      <td>Cardinals</td>\n",
              "      <td>WR</td>\n",
              "    </tr>\n",
              "    <tr>\n",
              "      <th>8</th>\n",
              "      <td>Stephon Gilmore</td>\n",
              "      <td>29</td>\n",
              "      <td>Patriots</td>\n",
              "      <td>CB</td>\n",
              "    </tr>\n",
              "    <tr>\n",
              "      <th>9</th>\n",
              "      <td>Derrick Henry</td>\n",
              "      <td>26</td>\n",
              "      <td>Titans</td>\n",
              "      <td>RB</td>\n",
              "    </tr>\n",
              "  </tbody>\n",
              "</table>\n",
              "</div>"
            ],
            "text/plain": [
              "                  Name  Age       Team Position\n",
              "0        Lamar Jackson   23     Ravens       QB\n",
              "1       Russell Wilson   31   Seahawks       QB\n",
              "2         Aaron Donald   29       Rams       DT\n",
              "3      Patrick Mahomes   24     Chiefs       QB\n",
              "4       Michael Thomas   27     Saints       WR\n",
              "5  Christian McCaffrey   24   Panthers       RB\n",
              "6        George Kittle   26      49ers       TE\n",
              "7      DeAndre Hopkins   28  Cardinals       WR\n",
              "8      Stephon Gilmore   29   Patriots       CB\n",
              "9        Derrick Henry   26     Titans       RB"
            ]
          },
          "metadata": {},
          "execution_count": 17
        }
      ]
    },
    {
      "cell_type": "markdown",
      "metadata": {
        "id": "vKxqpzx1bUql"
      },
      "source": [
        "SELECT * FROM players LIMIT 5\n",
        "\n",
        "SELECT TOP5 * FROM players"
      ]
    },
    {
      "cell_type": "code",
      "metadata": {
        "colab": {
          "base_uri": "https://localhost:8080/",
          "height": 206
        },
        "id": "aWcPfJDHbS98",
        "outputId": "3bd6728e-1c1c-48d6-b87c-abc18773d358"
      },
      "source": [
        "players.head(5)"
      ],
      "execution_count": null,
      "outputs": [
        {
          "output_type": "execute_result",
          "data": {
            "text/html": [
              "<div>\n",
              "<style scoped>\n",
              "    .dataframe tbody tr th:only-of-type {\n",
              "        vertical-align: middle;\n",
              "    }\n",
              "\n",
              "    .dataframe tbody tr th {\n",
              "        vertical-align: top;\n",
              "    }\n",
              "\n",
              "    .dataframe thead th {\n",
              "        text-align: right;\n",
              "    }\n",
              "</style>\n",
              "<table border=\"1\" class=\"dataframe\">\n",
              "  <thead>\n",
              "    <tr style=\"text-align: right;\">\n",
              "      <th></th>\n",
              "      <th>Name</th>\n",
              "      <th>Age</th>\n",
              "      <th>Team</th>\n",
              "      <th>Position</th>\n",
              "    </tr>\n",
              "  </thead>\n",
              "  <tbody>\n",
              "    <tr>\n",
              "      <th>0</th>\n",
              "      <td>Lamar Jackson</td>\n",
              "      <td>23</td>\n",
              "      <td>Ravens</td>\n",
              "      <td>QB</td>\n",
              "    </tr>\n",
              "    <tr>\n",
              "      <th>1</th>\n",
              "      <td>Russell Wilson</td>\n",
              "      <td>31</td>\n",
              "      <td>Seahawks</td>\n",
              "      <td>QB</td>\n",
              "    </tr>\n",
              "    <tr>\n",
              "      <th>2</th>\n",
              "      <td>Aaron Donald</td>\n",
              "      <td>29</td>\n",
              "      <td>Rams</td>\n",
              "      <td>DT</td>\n",
              "    </tr>\n",
              "    <tr>\n",
              "      <th>3</th>\n",
              "      <td>Patrick Mahomes</td>\n",
              "      <td>24</td>\n",
              "      <td>Chiefs</td>\n",
              "      <td>QB</td>\n",
              "    </tr>\n",
              "    <tr>\n",
              "      <th>4</th>\n",
              "      <td>Michael Thomas</td>\n",
              "      <td>27</td>\n",
              "      <td>Saints</td>\n",
              "      <td>WR</td>\n",
              "    </tr>\n",
              "  </tbody>\n",
              "</table>\n",
              "</div>"
            ],
            "text/plain": [
              "              Name  Age      Team Position\n",
              "0    Lamar Jackson   23    Ravens       QB\n",
              "1   Russell Wilson   31  Seahawks       QB\n",
              "2     Aaron Donald   29      Rams       DT\n",
              "3  Patrick Mahomes   24    Chiefs       QB\n",
              "4   Michael Thomas   27    Saints       WR"
            ]
          },
          "metadata": {},
          "execution_count": 27
        }
      ]
    },
    {
      "cell_type": "markdown",
      "metadata": {
        "id": "ICzj4qxXb4SN"
      },
      "source": [
        "SELECT Name, Age FROM players"
      ]
    },
    {
      "cell_type": "code",
      "metadata": {
        "colab": {
          "base_uri": "https://localhost:8080/",
          "height": 363
        },
        "id": "sxpcTssebfHX",
        "outputId": "0fd5d20c-5cb4-4f15-e6cd-793e9c94e27f"
      },
      "source": [
        "players[[\"Name\", \"Age\"]]"
      ],
      "execution_count": null,
      "outputs": [
        {
          "output_type": "execute_result",
          "data": {
            "text/html": [
              "<div>\n",
              "<style scoped>\n",
              "    .dataframe tbody tr th:only-of-type {\n",
              "        vertical-align: middle;\n",
              "    }\n",
              "\n",
              "    .dataframe tbody tr th {\n",
              "        vertical-align: top;\n",
              "    }\n",
              "\n",
              "    .dataframe thead th {\n",
              "        text-align: right;\n",
              "    }\n",
              "</style>\n",
              "<table border=\"1\" class=\"dataframe\">\n",
              "  <thead>\n",
              "    <tr style=\"text-align: right;\">\n",
              "      <th></th>\n",
              "      <th>Name</th>\n",
              "      <th>Age</th>\n",
              "    </tr>\n",
              "  </thead>\n",
              "  <tbody>\n",
              "    <tr>\n",
              "      <th>0</th>\n",
              "      <td>Lamar Jackson</td>\n",
              "      <td>23</td>\n",
              "    </tr>\n",
              "    <tr>\n",
              "      <th>1</th>\n",
              "      <td>Russell Wilson</td>\n",
              "      <td>31</td>\n",
              "    </tr>\n",
              "    <tr>\n",
              "      <th>2</th>\n",
              "      <td>Aaron Donald</td>\n",
              "      <td>29</td>\n",
              "    </tr>\n",
              "    <tr>\n",
              "      <th>3</th>\n",
              "      <td>Patrick Mahomes</td>\n",
              "      <td>24</td>\n",
              "    </tr>\n",
              "    <tr>\n",
              "      <th>4</th>\n",
              "      <td>Michael Thomas</td>\n",
              "      <td>27</td>\n",
              "    </tr>\n",
              "    <tr>\n",
              "      <th>5</th>\n",
              "      <td>Christian McCaffrey</td>\n",
              "      <td>24</td>\n",
              "    </tr>\n",
              "    <tr>\n",
              "      <th>6</th>\n",
              "      <td>George Kittle</td>\n",
              "      <td>26</td>\n",
              "    </tr>\n",
              "    <tr>\n",
              "      <th>7</th>\n",
              "      <td>DeAndre Hopkins</td>\n",
              "      <td>28</td>\n",
              "    </tr>\n",
              "    <tr>\n",
              "      <th>8</th>\n",
              "      <td>Stephon Gilmore</td>\n",
              "      <td>29</td>\n",
              "    </tr>\n",
              "    <tr>\n",
              "      <th>9</th>\n",
              "      <td>Derrick Henry</td>\n",
              "      <td>26</td>\n",
              "    </tr>\n",
              "  </tbody>\n",
              "</table>\n",
              "</div>"
            ],
            "text/plain": [
              "                  Name  Age\n",
              "0        Lamar Jackson   23\n",
              "1       Russell Wilson   31\n",
              "2         Aaron Donald   29\n",
              "3      Patrick Mahomes   24\n",
              "4       Michael Thomas   27\n",
              "5  Christian McCaffrey   24\n",
              "6        George Kittle   26\n",
              "7      DeAndre Hopkins   28\n",
              "8      Stephon Gilmore   29\n",
              "9        Derrick Henry   26"
            ]
          },
          "metadata": {},
          "execution_count": 32
        }
      ]
    },
    {
      "cell_type": "markdown",
      "metadata": {
        "id": "OSPl3bzxdNJ3"
      },
      "source": [
        "SELECT DISTINCT Position FROM players"
      ]
    },
    {
      "cell_type": "code",
      "metadata": {
        "id": "IOknp4J5dU-p"
      },
      "source": [
        "distinct_pos = list(players[\"Position\"].unique())"
      ],
      "execution_count": null,
      "outputs": []
    },
    {
      "cell_type": "code",
      "metadata": {
        "colab": {
          "base_uri": "https://localhost:8080/"
        },
        "id": "U_LNmydDddj8",
        "outputId": "d307446b-8ecd-46fb-f783-4180d0961fd9"
      },
      "source": [
        "len(distinct_pos)"
      ],
      "execution_count": null,
      "outputs": [
        {
          "output_type": "execute_result",
          "data": {
            "text/plain": [
              "6"
            ]
          },
          "metadata": {},
          "execution_count": 44
        }
      ]
    },
    {
      "cell_type": "markdown",
      "metadata": {
        "id": "WueEQTX5eayJ"
      },
      "source": [
        "SELECT * FROM players WHERE Position = \"QB\""
      ]
    },
    {
      "cell_type": "code",
      "metadata": {
        "colab": {
          "base_uri": "https://localhost:8080/",
          "height": 175
        },
        "id": "W4pU2yQKejx9",
        "outputId": "84cbfa83-6ad0-4ac4-da6d-feea889a6380"
      },
      "source": [
        "players[[\"Name\", \"Age\"]][(players[\"Position\"]==\"QB\") | (players[\"Position\"]==\"DT\")]"
      ],
      "execution_count": null,
      "outputs": [
        {
          "output_type": "execute_result",
          "data": {
            "text/html": [
              "<div>\n",
              "<style scoped>\n",
              "    .dataframe tbody tr th:only-of-type {\n",
              "        vertical-align: middle;\n",
              "    }\n",
              "\n",
              "    .dataframe tbody tr th {\n",
              "        vertical-align: top;\n",
              "    }\n",
              "\n",
              "    .dataframe thead th {\n",
              "        text-align: right;\n",
              "    }\n",
              "</style>\n",
              "<table border=\"1\" class=\"dataframe\">\n",
              "  <thead>\n",
              "    <tr style=\"text-align: right;\">\n",
              "      <th></th>\n",
              "      <th>Name</th>\n",
              "      <th>Age</th>\n",
              "    </tr>\n",
              "  </thead>\n",
              "  <tbody>\n",
              "    <tr>\n",
              "      <th>0</th>\n",
              "      <td>Lamar Jackson</td>\n",
              "      <td>23</td>\n",
              "    </tr>\n",
              "    <tr>\n",
              "      <th>1</th>\n",
              "      <td>Russell Wilson</td>\n",
              "      <td>31</td>\n",
              "    </tr>\n",
              "    <tr>\n",
              "      <th>2</th>\n",
              "      <td>Aaron Donald</td>\n",
              "      <td>29</td>\n",
              "    </tr>\n",
              "    <tr>\n",
              "      <th>3</th>\n",
              "      <td>Patrick Mahomes</td>\n",
              "      <td>24</td>\n",
              "    </tr>\n",
              "  </tbody>\n",
              "</table>\n",
              "</div>"
            ],
            "text/plain": [
              "              Name  Age\n",
              "0    Lamar Jackson   23\n",
              "1   Russell Wilson   31\n",
              "2     Aaron Donald   29\n",
              "3  Patrick Mahomes   24"
            ]
          },
          "metadata": {},
          "execution_count": 58
        }
      ]
    },
    {
      "cell_type": "code",
      "metadata": {
        "id": "PBZZEhptetKt"
      },
      "source": [
        ""
      ],
      "execution_count": null,
      "outputs": []
    },
    {
      "cell_type": "markdown",
      "metadata": {
        "id": "kQghII9LgzRZ"
      },
      "source": [
        "SELECT * FROM players ORDER BY Name DESC"
      ]
    },
    {
      "cell_type": "code",
      "metadata": {
        "colab": {
          "base_uri": "https://localhost:8080/",
          "height": 363
        },
        "id": "1k6G96G3g7dv",
        "outputId": "fe6acb7d-f09d-46c2-c7a9-d67eec9cdd91"
      },
      "source": [
        "players[[\"Age\",\"Name\"]].sort_values([\"Age\",\"Name\"], ascending=False)"
      ],
      "execution_count": null,
      "outputs": [
        {
          "output_type": "execute_result",
          "data": {
            "text/html": [
              "<div>\n",
              "<style scoped>\n",
              "    .dataframe tbody tr th:only-of-type {\n",
              "        vertical-align: middle;\n",
              "    }\n",
              "\n",
              "    .dataframe tbody tr th {\n",
              "        vertical-align: top;\n",
              "    }\n",
              "\n",
              "    .dataframe thead th {\n",
              "        text-align: right;\n",
              "    }\n",
              "</style>\n",
              "<table border=\"1\" class=\"dataframe\">\n",
              "  <thead>\n",
              "    <tr style=\"text-align: right;\">\n",
              "      <th></th>\n",
              "      <th>Age</th>\n",
              "      <th>Name</th>\n",
              "    </tr>\n",
              "  </thead>\n",
              "  <tbody>\n",
              "    <tr>\n",
              "      <th>1</th>\n",
              "      <td>31</td>\n",
              "      <td>Russell Wilson</td>\n",
              "    </tr>\n",
              "    <tr>\n",
              "      <th>8</th>\n",
              "      <td>29</td>\n",
              "      <td>Stephon Gilmore</td>\n",
              "    </tr>\n",
              "    <tr>\n",
              "      <th>2</th>\n",
              "      <td>29</td>\n",
              "      <td>Aaron Donald</td>\n",
              "    </tr>\n",
              "    <tr>\n",
              "      <th>7</th>\n",
              "      <td>28</td>\n",
              "      <td>DeAndre Hopkins</td>\n",
              "    </tr>\n",
              "    <tr>\n",
              "      <th>4</th>\n",
              "      <td>27</td>\n",
              "      <td>Michael Thomas</td>\n",
              "    </tr>\n",
              "    <tr>\n",
              "      <th>6</th>\n",
              "      <td>26</td>\n",
              "      <td>George Kittle</td>\n",
              "    </tr>\n",
              "    <tr>\n",
              "      <th>9</th>\n",
              "      <td>26</td>\n",
              "      <td>Derrick Henry</td>\n",
              "    </tr>\n",
              "    <tr>\n",
              "      <th>3</th>\n",
              "      <td>24</td>\n",
              "      <td>Patrick Mahomes</td>\n",
              "    </tr>\n",
              "    <tr>\n",
              "      <th>5</th>\n",
              "      <td>24</td>\n",
              "      <td>Christian McCaffrey</td>\n",
              "    </tr>\n",
              "    <tr>\n",
              "      <th>0</th>\n",
              "      <td>23</td>\n",
              "      <td>Lamar Jackson</td>\n",
              "    </tr>\n",
              "  </tbody>\n",
              "</table>\n",
              "</div>"
            ],
            "text/plain": [
              "   Age                 Name\n",
              "1   31       Russell Wilson\n",
              "8   29      Stephon Gilmore\n",
              "2   29         Aaron Donald\n",
              "7   28      DeAndre Hopkins\n",
              "4   27       Michael Thomas\n",
              "6   26        George Kittle\n",
              "9   26        Derrick Henry\n",
              "3   24      Patrick Mahomes\n",
              "5   24  Christian McCaffrey\n",
              "0   23        Lamar Jackson"
            ]
          },
          "metadata": {},
          "execution_count": 64
        }
      ]
    },
    {
      "cell_type": "markdown",
      "metadata": {
        "id": "HjI-fU7xh3jY"
      },
      "source": [
        "SELECT COUNT(*) AS count_pos FROM players GROUP BY Position"
      ]
    },
    {
      "cell_type": "code",
      "metadata": {
        "colab": {
          "base_uri": "https://localhost:8080/",
          "height": 269
        },
        "id": "8Kyt9SXFiE3l",
        "outputId": "6caef062-a57f-4f34-95db-1ac4de8fafe6"
      },
      "source": [
        "players.groupby(\"Position\").count()"
      ],
      "execution_count": null,
      "outputs": [
        {
          "output_type": "execute_result",
          "data": {
            "text/html": [
              "<div>\n",
              "<style scoped>\n",
              "    .dataframe tbody tr th:only-of-type {\n",
              "        vertical-align: middle;\n",
              "    }\n",
              "\n",
              "    .dataframe tbody tr th {\n",
              "        vertical-align: top;\n",
              "    }\n",
              "\n",
              "    .dataframe thead th {\n",
              "        text-align: right;\n",
              "    }\n",
              "</style>\n",
              "<table border=\"1\" class=\"dataframe\">\n",
              "  <thead>\n",
              "    <tr style=\"text-align: right;\">\n",
              "      <th></th>\n",
              "      <th>Name</th>\n",
              "      <th>Age</th>\n",
              "      <th>Team</th>\n",
              "    </tr>\n",
              "    <tr>\n",
              "      <th>Position</th>\n",
              "      <th></th>\n",
              "      <th></th>\n",
              "      <th></th>\n",
              "    </tr>\n",
              "  </thead>\n",
              "  <tbody>\n",
              "    <tr>\n",
              "      <th>CB</th>\n",
              "      <td>1</td>\n",
              "      <td>1</td>\n",
              "      <td>1</td>\n",
              "    </tr>\n",
              "    <tr>\n",
              "      <th>DT</th>\n",
              "      <td>1</td>\n",
              "      <td>1</td>\n",
              "      <td>1</td>\n",
              "    </tr>\n",
              "    <tr>\n",
              "      <th>QB</th>\n",
              "      <td>3</td>\n",
              "      <td>3</td>\n",
              "      <td>3</td>\n",
              "    </tr>\n",
              "    <tr>\n",
              "      <th>RB</th>\n",
              "      <td>2</td>\n",
              "      <td>2</td>\n",
              "      <td>2</td>\n",
              "    </tr>\n",
              "    <tr>\n",
              "      <th>TE</th>\n",
              "      <td>1</td>\n",
              "      <td>1</td>\n",
              "      <td>1</td>\n",
              "    </tr>\n",
              "    <tr>\n",
              "      <th>WR</th>\n",
              "      <td>2</td>\n",
              "      <td>2</td>\n",
              "      <td>2</td>\n",
              "    </tr>\n",
              "  </tbody>\n",
              "</table>\n",
              "</div>"
            ],
            "text/plain": [
              "          Name  Age  Team\n",
              "Position                 \n",
              "CB           1    1     1\n",
              "DT           1    1     1\n",
              "QB           3    3     3\n",
              "RB           2    2     2\n",
              "TE           1    1     1\n",
              "WR           2    2     2"
            ]
          },
          "metadata": {},
          "execution_count": 73
        }
      ]
    },
    {
      "cell_type": "code",
      "metadata": {
        "id": "TTQRE3GLiJiF"
      },
      "source": [
        "df_team = [\n",
        "  [1, \"Arizona Diamondbacks\"]\n",
        "  , [2, \"Colorado Rockies\"]\n",
        "  , [3, \"Los Angeles Dodgers\"]\n",
        "  , [4, \"San Diego Padres\"]\n",
        "  , [5, \"San Francisco Giants\"]\n",
        "]\n",
        "team_columns = [\"Id\", \"Name\"]\n",
        "teams = pd.DataFrame(data=df_team, columns=team_columns)"
      ],
      "execution_count": null,
      "outputs": []
    },
    {
      "cell_type": "code",
      "metadata": {
        "id": "ITT0PpcqjUWP"
      },
      "source": [
        "df_player = [\n",
        "  [1, \"Cody Bellinger\", 3, \"OF\"]\n",
        "  , [2, \"Mookie Betts\", 3, \"OF\"]\n",
        "  , [3, \"Nolan Arenado\", 2, \"3B\"]\n",
        "  , [4, \"Trevor Story\", 2, \"SS\"]\n",
        "  , [5, \"Fernando Tatis Jr.\", 4, \"SS\"]\n",
        "  , [6, \"Buster Posey\", 5, \"C\"]\n",
        "  , [7, \"Starling Marte\", 1, \"OF\"]\n",
        "  , [8, \"Manny Machado\", 4, \"3B\"]\n",
        "]\n",
        "player_columns = [\"Id\", \"Name\", \"TeamId\", \"Position\"]\n",
        "players = pd.DataFrame(data=df_player, columns=player_columns)"
      ],
      "execution_count": null,
      "outputs": []
    },
    {
      "cell_type": "code",
      "metadata": {
        "id": "XUZfLdt4ja3i"
      },
      "source": [
        "df_homerun = [\n",
        "  [2, 16]\n",
        "  , [5, 15]\n",
        "  , [8, 16]\n",
        "]\n",
        "homerun_columns = [\"PlayerId\", \"Homerun\"]\n",
        "homeruns = pd.DataFrame(data=df_homerun, columns=homerun_columns)"
      ],
      "execution_count": null,
      "outputs": []
    },
    {
      "cell_type": "code",
      "metadata": {
        "colab": {
          "base_uri": "https://localhost:8080/",
          "height": 300
        },
        "id": "exKximazjeIn",
        "outputId": "6ce95c56-64a8-43e2-bdc8-a04c0c7dd18a"
      },
      "source": [
        "players"
      ],
      "execution_count": null,
      "outputs": [
        {
          "output_type": "execute_result",
          "data": {
            "text/html": [
              "<div>\n",
              "<style scoped>\n",
              "    .dataframe tbody tr th:only-of-type {\n",
              "        vertical-align: middle;\n",
              "    }\n",
              "\n",
              "    .dataframe tbody tr th {\n",
              "        vertical-align: top;\n",
              "    }\n",
              "\n",
              "    .dataframe thead th {\n",
              "        text-align: right;\n",
              "    }\n",
              "</style>\n",
              "<table border=\"1\" class=\"dataframe\">\n",
              "  <thead>\n",
              "    <tr style=\"text-align: right;\">\n",
              "      <th></th>\n",
              "      <th>Id</th>\n",
              "      <th>Name</th>\n",
              "      <th>TeamId</th>\n",
              "      <th>Position</th>\n",
              "    </tr>\n",
              "  </thead>\n",
              "  <tbody>\n",
              "    <tr>\n",
              "      <th>0</th>\n",
              "      <td>1</td>\n",
              "      <td>Cody Bellinger</td>\n",
              "      <td>3</td>\n",
              "      <td>OF</td>\n",
              "    </tr>\n",
              "    <tr>\n",
              "      <th>1</th>\n",
              "      <td>2</td>\n",
              "      <td>Mookie Betts</td>\n",
              "      <td>3</td>\n",
              "      <td>OF</td>\n",
              "    </tr>\n",
              "    <tr>\n",
              "      <th>2</th>\n",
              "      <td>3</td>\n",
              "      <td>Nolan Arenado</td>\n",
              "      <td>2</td>\n",
              "      <td>3B</td>\n",
              "    </tr>\n",
              "    <tr>\n",
              "      <th>3</th>\n",
              "      <td>4</td>\n",
              "      <td>Trevor Story</td>\n",
              "      <td>2</td>\n",
              "      <td>SS</td>\n",
              "    </tr>\n",
              "    <tr>\n",
              "      <th>4</th>\n",
              "      <td>5</td>\n",
              "      <td>Fernando Tatis Jr.</td>\n",
              "      <td>4</td>\n",
              "      <td>SS</td>\n",
              "    </tr>\n",
              "    <tr>\n",
              "      <th>5</th>\n",
              "      <td>6</td>\n",
              "      <td>Buster Posey</td>\n",
              "      <td>5</td>\n",
              "      <td>C</td>\n",
              "    </tr>\n",
              "    <tr>\n",
              "      <th>6</th>\n",
              "      <td>7</td>\n",
              "      <td>Starling Marte</td>\n",
              "      <td>1</td>\n",
              "      <td>OF</td>\n",
              "    </tr>\n",
              "    <tr>\n",
              "      <th>7</th>\n",
              "      <td>8</td>\n",
              "      <td>Manny Machado</td>\n",
              "      <td>4</td>\n",
              "      <td>3B</td>\n",
              "    </tr>\n",
              "  </tbody>\n",
              "</table>\n",
              "</div>"
            ],
            "text/plain": [
              "   Id                Name  TeamId Position\n",
              "0   1      Cody Bellinger       3       OF\n",
              "1   2        Mookie Betts       3       OF\n",
              "2   3       Nolan Arenado       2       3B\n",
              "3   4        Trevor Story       2       SS\n",
              "4   5  Fernando Tatis Jr.       4       SS\n",
              "5   6        Buster Posey       5        C\n",
              "6   7      Starling Marte       1       OF\n",
              "7   8       Manny Machado       4       3B"
            ]
          },
          "metadata": {},
          "execution_count": 77
        }
      ]
    },
    {
      "cell_type": "code",
      "metadata": {
        "colab": {
          "base_uri": "https://localhost:8080/",
          "height": 206
        },
        "id": "iETfsQJGjf1m",
        "outputId": "682a9972-c234-4dd7-df5d-95855dc57277"
      },
      "source": [
        "teams"
      ],
      "execution_count": null,
      "outputs": [
        {
          "output_type": "execute_result",
          "data": {
            "text/html": [
              "<div>\n",
              "<style scoped>\n",
              "    .dataframe tbody tr th:only-of-type {\n",
              "        vertical-align: middle;\n",
              "    }\n",
              "\n",
              "    .dataframe tbody tr th {\n",
              "        vertical-align: top;\n",
              "    }\n",
              "\n",
              "    .dataframe thead th {\n",
              "        text-align: right;\n",
              "    }\n",
              "</style>\n",
              "<table border=\"1\" class=\"dataframe\">\n",
              "  <thead>\n",
              "    <tr style=\"text-align: right;\">\n",
              "      <th></th>\n",
              "      <th>Id</th>\n",
              "      <th>Name</th>\n",
              "    </tr>\n",
              "  </thead>\n",
              "  <tbody>\n",
              "    <tr>\n",
              "      <th>0</th>\n",
              "      <td>1</td>\n",
              "      <td>Arizona Diamondbacks</td>\n",
              "    </tr>\n",
              "    <tr>\n",
              "      <th>1</th>\n",
              "      <td>2</td>\n",
              "      <td>Colorado Rockies</td>\n",
              "    </tr>\n",
              "    <tr>\n",
              "      <th>2</th>\n",
              "      <td>3</td>\n",
              "      <td>Los Angeles Dodgers</td>\n",
              "    </tr>\n",
              "    <tr>\n",
              "      <th>3</th>\n",
              "      <td>4</td>\n",
              "      <td>San Diego Padres</td>\n",
              "    </tr>\n",
              "    <tr>\n",
              "      <th>4</th>\n",
              "      <td>5</td>\n",
              "      <td>San Francisco Giants</td>\n",
              "    </tr>\n",
              "  </tbody>\n",
              "</table>\n",
              "</div>"
            ],
            "text/plain": [
              "   Id                  Name\n",
              "0   1  Arizona Diamondbacks\n",
              "1   2      Colorado Rockies\n",
              "2   3   Los Angeles Dodgers\n",
              "3   4      San Diego Padres\n",
              "4   5  San Francisco Giants"
            ]
          },
          "metadata": {},
          "execution_count": 78
        }
      ]
    },
    {
      "cell_type": "code",
      "metadata": {
        "colab": {
          "base_uri": "https://localhost:8080/",
          "height": 143
        },
        "id": "RQ_k8Q2ujjP2",
        "outputId": "268bd445-6ac8-41b0-d4bb-129dc27f34ae"
      },
      "source": [
        "homeruns"
      ],
      "execution_count": null,
      "outputs": [
        {
          "output_type": "execute_result",
          "data": {
            "text/html": [
              "<div>\n",
              "<style scoped>\n",
              "    .dataframe tbody tr th:only-of-type {\n",
              "        vertical-align: middle;\n",
              "    }\n",
              "\n",
              "    .dataframe tbody tr th {\n",
              "        vertical-align: top;\n",
              "    }\n",
              "\n",
              "    .dataframe thead th {\n",
              "        text-align: right;\n",
              "    }\n",
              "</style>\n",
              "<table border=\"1\" class=\"dataframe\">\n",
              "  <thead>\n",
              "    <tr style=\"text-align: right;\">\n",
              "      <th></th>\n",
              "      <th>PlayerId</th>\n",
              "      <th>Homerun</th>\n",
              "    </tr>\n",
              "  </thead>\n",
              "  <tbody>\n",
              "    <tr>\n",
              "      <th>0</th>\n",
              "      <td>2</td>\n",
              "      <td>16</td>\n",
              "    </tr>\n",
              "    <tr>\n",
              "      <th>1</th>\n",
              "      <td>5</td>\n",
              "      <td>15</td>\n",
              "    </tr>\n",
              "    <tr>\n",
              "      <th>2</th>\n",
              "      <td>8</td>\n",
              "      <td>16</td>\n",
              "    </tr>\n",
              "  </tbody>\n",
              "</table>\n",
              "</div>"
            ],
            "text/plain": [
              "   PlayerId  Homerun\n",
              "0         2       16\n",
              "1         5       15\n",
              "2         8       16"
            ]
          },
          "metadata": {},
          "execution_count": 79
        }
      ]
    },
    {
      "cell_type": "markdown",
      "metadata": {
        "id": "g1hBYD0Hj6HT"
      },
      "source": [
        "SELECT p.Name, h.Homerun\n",
        "\n",
        "FROM players AS p \n",
        "\n",
        "JOIN homeruns AS h\n",
        "\n",
        "ON p.Id = h.PlayerId"
      ]
    },
    {
      "cell_type": "code",
      "metadata": {
        "id": "xFAaJub2j8hC"
      },
      "source": [
        "player_homeruns = pd.merge(players, homeruns, how=\"inner\", left_on=\"Id\", right_on=\"PlayerId\")"
      ],
      "execution_count": null,
      "outputs": []
    },
    {
      "cell_type": "code",
      "metadata": {
        "colab": {
          "base_uri": "https://localhost:8080/",
          "height": 143
        },
        "id": "6bXxaJQfk-Qt",
        "outputId": "eceff39f-701d-48c2-d5f3-967cfcdb50cc"
      },
      "source": [
        "player_homeruns"
      ],
      "execution_count": null,
      "outputs": [
        {
          "output_type": "execute_result",
          "data": {
            "text/html": [
              "<div>\n",
              "<style scoped>\n",
              "    .dataframe tbody tr th:only-of-type {\n",
              "        vertical-align: middle;\n",
              "    }\n",
              "\n",
              "    .dataframe tbody tr th {\n",
              "        vertical-align: top;\n",
              "    }\n",
              "\n",
              "    .dataframe thead th {\n",
              "        text-align: right;\n",
              "    }\n",
              "</style>\n",
              "<table border=\"1\" class=\"dataframe\">\n",
              "  <thead>\n",
              "    <tr style=\"text-align: right;\">\n",
              "      <th></th>\n",
              "      <th>Id</th>\n",
              "      <th>Name</th>\n",
              "      <th>TeamId</th>\n",
              "      <th>Position</th>\n",
              "      <th>PlayerId</th>\n",
              "      <th>Homerun</th>\n",
              "    </tr>\n",
              "  </thead>\n",
              "  <tbody>\n",
              "    <tr>\n",
              "      <th>0</th>\n",
              "      <td>2</td>\n",
              "      <td>Mookie Betts</td>\n",
              "      <td>3</td>\n",
              "      <td>OF</td>\n",
              "      <td>2</td>\n",
              "      <td>16</td>\n",
              "    </tr>\n",
              "    <tr>\n",
              "      <th>1</th>\n",
              "      <td>5</td>\n",
              "      <td>Fernando Tatis Jr.</td>\n",
              "      <td>4</td>\n",
              "      <td>SS</td>\n",
              "      <td>5</td>\n",
              "      <td>15</td>\n",
              "    </tr>\n",
              "    <tr>\n",
              "      <th>2</th>\n",
              "      <td>8</td>\n",
              "      <td>Manny Machado</td>\n",
              "      <td>4</td>\n",
              "      <td>3B</td>\n",
              "      <td>8</td>\n",
              "      <td>16</td>\n",
              "    </tr>\n",
              "  </tbody>\n",
              "</table>\n",
              "</div>"
            ],
            "text/plain": [
              "   Id                Name  TeamId Position  PlayerId  Homerun\n",
              "0   2        Mookie Betts       3       OF         2       16\n",
              "1   5  Fernando Tatis Jr.       4       SS         5       15\n",
              "2   8       Manny Machado       4       3B         8       16"
            ]
          },
          "metadata": {},
          "execution_count": 82
        }
      ]
    },
    {
      "cell_type": "code",
      "metadata": {
        "id": "bY3oV-OZlDlk"
      },
      "source": [
        ""
      ],
      "execution_count": null,
      "outputs": []
    }
  ]
}